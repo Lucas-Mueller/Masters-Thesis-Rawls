{
 "cells": [
  {
   "cell_type": "markdown",
   "id": "9300d0d3",
   "metadata": {},
   "source": [
    "# Imports"
   ]
  },
  {
   "cell_type": "code",
   "execution_count": 1,
   "id": "5d95ea03",
   "metadata": {},
   "outputs": [],
   "source": [
    "from config_generator import ProbabilisticConfigGenerator\n",
    "import os\n",
    "from run_batch import run_batch, run_batch_sync\n",
    "import nest_asyncio\n",
    "import json\n"
   ]
  },
  {
   "cell_type": "code",
   "execution_count": 3,
   "id": "14a7495f",
   "metadata": {},
   "outputs": [],
   "source": [
    "parent = \"custom_experiments\"\n",
    "run_id = \"Test_999\"\n",
    "run_folder = os.path.join(parent, run_id)\n",
    "\n",
    "# Warn if folder exists and is not empty\n",
    "if os.path.exists(run_folder) and os.listdir(run_folder):\n",
    "    print(f\"⚠️ Warning: Folder '{run_folder}' already exists and is not empty.\")\n",
    "\n",
    "# Define subfolder paths\n",
    "config_folder = os.path.join(run_folder, \"config\")\n",
    "log_folder = os.path.join(run_folder, \"log\")\n",
    "\n",
    "# Create folders\n",
    "os.makedirs(config_folder, exist_ok=True)\n",
    "os.makedirs(log_folder, exist_ok=True)\n"
   ]
  },
  {
   "cell_type": "code",
   "execution_count": 4,
   "id": "be04201f",
   "metadata": {},
   "outputs": [
    {
     "name": "stdout",
     "output_type": "stream",
     "text": [
      "custom_experiments/Test_999/config\n"
     ]
    }
   ],
   "source": [
    "print(config_folder)"
   ]
  },
  {
   "cell_type": "markdown",
   "id": "bb582795",
   "metadata": {},
   "source": [
    "# Generate Configs\n"
   ]
  },
  {
   "cell_type": "code",
   "execution_count": 6,
   "id": "43c7e521",
   "metadata": {},
   "outputs": [],
   "source": [
    "# Define Hyperparameter Space\n",
    "generator = ProbabilisticConfigGenerator(\n",
    "        agent_count_probabilities={2: 0.5, 3: 0.5},\n",
    "        personality_probabilities={\n",
    "            \"You are an economist.\": 0.5,\n",
    "            \"You are a philosopher.\": 0.5\n",
    "        },\n",
    "        rounds_probabilities={2: 0.5, 3: 0.5},\n",
    "        model_probabilities={\"gpt-4.1-nano\": 1.0},\n",
    "        temperature={0: 0.25, 0.5:0.5, 1:0.25},\n",
    "        output_folder=config_folder\n",
    ")\n"
   ]
  },
  {
   "cell_type": "code",
   "execution_count": 7,
   "id": "fc68e5cc",
   "metadata": {},
   "outputs": [],
   "source": [
    "#Generate the acutal config files\n",
    "batch_paths = generator.generate_batch_configs(3)\n"
   ]
  },
  {
   "cell_type": "markdown",
   "id": "1ca7e0b3",
   "metadata": {},
   "source": [
    "# Run Configs"
   ]
  },
  {
   "cell_type": "code",
   "execution_count": null,
   "id": "94tujk2me0o",
   "metadata": {},
   "outputs": [],
   "source": "# Simplified Batch Execution\nimport os\nfrom pathlib import Path\nfrom run_batch import run_batch\nimport nest_asyncio\n\nnest_asyncio.apply()\n\n# Get config names from the generated files (without copying)\nconfig_files = list(Path(config_folder).iterdir())\nconfig_names = [config_file.stem for config_file in config_files]\n\n# Run batch experiments using the configs from their current location\nresults = await run_batch(config_names, max_concurrent=3, output_dir=log_folder, config_dir=config_folder)"
  },
  {
   "cell_type": "markdown",
   "id": "62554465",
   "metadata": {},
   "source": [
    "## Analysis of Results"
   ]
  },
  {
   "cell_type": "code",
   "execution_count": null,
   "id": "23f5ae6f",
   "metadata": {},
   "outputs": [],
   "source": []
  }
 ],
 "metadata": {
  "kernelspec": {
   "display_name": ".venv",
   "language": "python",
   "name": "python3"
  },
  "language_info": {
   "codemirror_mode": {
    "name": "ipython",
    "version": 3
   },
   "file_extension": ".py",
   "mimetype": "text/x-python",
   "name": "python",
   "nbconvert_exporter": "python",
   "pygments_lexer": "ipython3",
   "version": "3.13.1"
  }
 },
 "nbformat": 4,
 "nbformat_minor": 5
}