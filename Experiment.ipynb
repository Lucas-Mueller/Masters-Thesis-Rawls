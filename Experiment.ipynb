{
 "cells": [
  {
   "cell_type": "markdown",
   "id": "9300d0d3",
   "metadata": {},
   "source": [
    "# Imports"
   ]
  },
  {
   "cell_type": "code",
   "execution_count": 1,
   "id": "5d95ea03",
   "metadata": {},
   "outputs": [],
   "source": [
    "from config_generator import ProbabilisticConfigGenerator, create_test_generator, create_example_generator"
   ]
  },
  {
   "cell_type": "markdown",
   "id": "bb582795",
   "metadata": {},
   "source": [
    "# Generate Configs\n"
   ]
  },
  {
   "cell_type": "code",
   "execution_count": null,
   "id": "43c7e521",
   "metadata": {},
   "outputs": [],
   "source": [
    "generator = ProbabilisticConfigGenerator(\n",
    "        agent_count_probabilities={2: 0.5, 3: 0.5},\n",
    "        personality_probabilities={\n",
    "            \"You are an economist.\": 0.5,\n",
    "            \"You are a philosopher.\": 0.5\n",
    "        },\n",
    "        rounds_probabilities={3: 0.7, 5: 0.3},\n",
    "        model_probabilities={\"gpt-4.1-nano\": 1.0},\n",
    "        output_folder=\"custom experiments\"\n",
    "    )"
   ]
  },
  {
   "cell_type": "markdown",
   "id": "1fb88d76",
   "metadata": {},
   "source": [
    "## Determine Feature Space"
   ]
  },
  {
   "cell_type": "markdown",
   "id": "31e359d6",
   "metadata": {},
   "source": [
    "## Generate YAML Files\n"
   ]
  },
  {
   "cell_type": "markdown",
   "id": "1ca7e0b3",
   "metadata": {},
   "source": [
    "# Run Configs"
   ]
  },
  {
   "cell_type": "code",
   "execution_count": null,
   "id": "9f9d61b6",
   "metadata": {},
   "outputs": [],
   "source": []
  },
  {
   "cell_type": "markdown",
   "id": "62554465",
   "metadata": {},
   "source": [
    "## Analysis of Results"
   ]
  }
 ],
 "metadata": {
  "kernelspec": {
   "display_name": ".venv",
   "language": "python",
   "name": "python3"
  },
  "language_info": {
   "codemirror_mode": {
    "name": "ipython",
    "version": 3
   },
   "file_extension": ".py",
   "mimetype": "text/x-python",
   "name": "python",
   "nbconvert_exporter": "python",
   "pygments_lexer": "ipython3",
   "version": "3.13.1"
  }
 },
 "nbformat": 4,
 "nbformat_minor": 5
}
